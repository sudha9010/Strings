{
 "cells": [
  {
   "cell_type": "markdown",
   "metadata": {},
   "source": [
    "In Python, a string is a sequence of characters enclosed within single (' '), double (\" \"), or triple (''' ' ''', \"\"\" \"\"\" or `) quotes. Strings are immutable, meaning that once they are created, their values cannot be changed. "
   ]
  },
  {
   "cell_type": "markdown",
   "metadata": {},
   "source": [
    "1.String Creation:"
   ]
  },
  {
   "cell_type": "code",
   "execution_count": 1,
   "metadata": {},
   "outputs": [],
   "source": [
    "single_quoted = 'Hello, World!'\n",
    "double_quoted = \"Python is great!\"\n",
    "triple_quoted = '''This is a \n",
    "                  multiline\n",
    "                  string.'''\n"
   ]
  },
  {
   "cell_type": "markdown",
   "metadata": {},
   "source": [
    "2.String Concatenation:"
   ]
  },
  {
   "cell_type": "markdown",
   "metadata": {},
   "source": [
    "You can concatenate strings using the + operator."
   ]
  },
  {
   "cell_type": "code",
   "execution_count": 2,
   "metadata": {},
   "outputs": [
    {
     "name": "stdout",
     "output_type": "stream",
     "text": [
      "Hello World\n"
     ]
    }
   ],
   "source": [
    "str1 = \"Hello\"\n",
    "str2 = \"World\"\n",
    "result = str1 + \" \" + str2\n",
    "print(result)  # Output: Hello World\n"
   ]
  },
  {
   "cell_type": "markdown",
   "metadata": {},
   "source": [
    "3.String Indexing:Strings can be indexed using square brackets. Indexing starts at 0 for the first character."
   ]
  },
  {
   "cell_type": "code",
   "execution_count": 4,
   "metadata": {},
   "outputs": [
    {
     "name": "stdout",
     "output_type": "stream",
     "text": [
      "P\n",
      "t\n"
     ]
    }
   ],
   "source": [
    "my_string = \"Python\"\n",
    "print(my_string[0]) \n",
    "print(my_string[2])  \n"
   ]
  },
  {
   "cell_type": "markdown",
   "metadata": {},
   "source": [
    "4.String Slicing: You can extract a substring by specifying a range of indices using slicing."
   ]
  },
  {
   "cell_type": "code",
   "execution_count": 6,
   "metadata": {},
   "outputs": [
    {
     "name": "stdout",
     "output_type": "stream",
     "text": [
      "udh\n"
     ]
    }
   ],
   "source": [
    "my_string = \"Sudha\"\n",
    "print(my_string[1:4])  \n"
   ]
  },
  {
   "cell_type": "markdown",
   "metadata": {},
   "source": [
    "5.String Methods: Python provides various built-in methods for string manipulation. Some common methods include len(), lower(), upper(), strip(), replace(), split(), and more."
   ]
  },
  {
   "cell_type": "code",
   "execution_count": 8,
   "metadata": {},
   "outputs": [
    {
     "name": "stdout",
     "output_type": "stream",
     "text": [
      "38\n",
      "Hello Sudha , Have a great day!!\n"
     ]
    }
   ],
   "source": [
    "my_string = \"   Hello Sudha , Have a great day!!   \"\n",
    "print(len(my_string))        \n",
    "print(my_string.strip())     \n"
   ]
  },
  {
   "cell_type": "markdown",
   "metadata": {},
   "source": [
    "6.String Formatting: There are multiple ways to format strings in Python, including the' % 'operator, 'format()' method, and f-strings\n",
    "\n"
   ]
  },
  {
   "cell_type": "code",
   "execution_count": 10,
   "metadata": {},
   "outputs": [
    {
     "name": "stdout",
     "output_type": "stream",
     "text": [
      "My name is Sudha and I am 21 years old.\n",
      "My name is Sudha and I am 21 years old.\n",
      "My name is Sudha and I am 21 years old.\n"
     ]
    }
   ],
   "source": [
    "name = \"Sudha\"\n",
    "age = 21\n",
    "print(\"My name is %s and I am %d years old.\" % (name, age))\n",
    "print(\"My name is {} and I am {} years old.\".format(name, age))\n",
    "print(f\"My name is {name} and I am {age} years old.\")\n"
   ]
  },
  {
   "cell_type": "markdown",
   "metadata": {},
   "source": [
    "7. Escape Characters: You can use escape characters to include special characters in a string."
   ]
  },
  {
   "cell_type": "code",
   "execution_count": 14,
   "metadata": {},
   "outputs": [
    {
     "name": "stdout",
     "output_type": "stream",
     "text": [
      "This is a \"quoted\" string.\n"
     ]
    }
   ],
   "source": [
    "my_string = \"This is a \\\"quoted\\\" string.\"\n",
    "print(my_string)\n",
    "\n"
   ]
  }
 ],
 "metadata": {
  "kernelspec": {
   "display_name": "Python 3",
   "language": "python",
   "name": "python3"
  },
  "language_info": {
   "codemirror_mode": {
    "name": "ipython",
    "version": 3
   },
   "file_extension": ".py",
   "mimetype": "text/x-python",
   "name": "python",
   "nbconvert_exporter": "python",
   "pygments_lexer": "ipython3",
   "version": "3.10.13"
  }
 },
 "nbformat": 4,
 "nbformat_minor": 2
}
